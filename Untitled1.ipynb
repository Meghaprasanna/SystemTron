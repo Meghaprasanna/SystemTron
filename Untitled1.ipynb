{
  "nbformat": 4,
  "nbformat_minor": 0,
  "metadata": {
    "colab": {
      "provenance": [],
      "authorship_tag": "ABX9TyOMT3xY3E/S/5sRpWH0IoUy",
      "include_colab_link": true
    },
    "kernelspec": {
      "name": "python3",
      "display_name": "Python 3"
    },
    "language_info": {
      "name": "python"
    }
  },
  "cells": [
    {
      "cell_type": "markdown",
      "metadata": {
        "id": "view-in-github",
        "colab_type": "text"
      },
      "source": [
        "<a href=\"https://colab.research.google.com/github/Meghaprasanna/SystemTron/blob/main/Untitled1.ipynb\" target=\"_parent\"><img src=\"https://colab.research.google.com/assets/colab-badge.svg\" alt=\"Open In Colab\"/></a>"
      ]
    },
    {
      "cell_type": "code",
      "source": [
        "import numpy as np"
      ],
      "metadata": {
        "id": "_pgN3mPRPhZl"
      },
      "execution_count": 12,
      "outputs": []
    },
    {
      "cell_type": "code",
      "source": [
        "board = np.zeros((6, 7), dtype=int)\n",
        "legal_moves = [6]*7\n",
        "\n",
        "def proper_print():\n",
        "    print(np.where(board==-1, 2, board))\n",
        "\n",
        "def check_move(row, col):\n",
        "    for i in range(0 if row<=3 else row-3, 3 if row>=2 else row+1):\n",
        "        for j in range(0 if col<=3 else col-3, 4 if col>=3 else col+1):\n",
        "            current_board = board[i:i+4, j:j+4]\n",
        "            for k in range(4):\n",
        "                if sum(current_board[k])==TURN*4 or sum(current_board[:, k])==TURN*4:\n",
        "                    return True\n",
        "            if sum(np.diag(current_board))==TURN*4 or sum(np.diag(current_board[::-1]))==TURN*4:\n",
        "                return True"
      ],
      "metadata": {
        "id": "zB5xXvzFPlu2"
      },
      "execution_count": 13,
      "outputs": []
    },
    {
      "cell_type": "code",
      "source": [
        "def find_row(col):\n",
        "    return 5-np.where(board[::-1, col]==0)[0][0]\n",
        "\n",
        "def proper_turn():\n",
        "    return 1 if TURN==1 else 2\n",
        "\n",
        "def accept_move():\n",
        "    while True:\n",
        "        try:\n",
        "            move = int(input(f\"What is player {proper_turn()}'s move?\"))-1\n",
        "            if move in range(7) and legal_moves[move] != 0:\n",
        "                legal_moves[move] -= 1\n",
        "                return move\n",
        "            continue\n",
        "        except ValueError:\n",
        "            continue"
      ],
      "metadata": {
        "id": "FU8ognJ1Pody"
      },
      "execution_count": 14,
      "outputs": []
    },
    {
      "cell_type": "code",
      "source": [
        "TURN = 1\n",
        "proper_print()\n",
        "while True:\n",
        "    move = accept_move()\n",
        "    row = find_row(move)\n",
        "    board[row, move] = TURN\n",
        "    proper_print()\n",
        "    if check_move(row, move):\n",
        "        print (f\"Player {proper_turn()} has won!\")\n",
        "        break\n",
        "    if sum(legal_moves)==0:\n",
        "        print (\"TIE GAME\")\n",
        "        break\n",
        "    TURN *= -1"
      ],
      "metadata": {
        "colab": {
          "base_uri": "https://localhost:8080/"
        },
        "id": "F9D-iJn9PwAZ",
        "outputId": "688d8ac4-310f-4d1f-f954-d45943663f93"
      },
      "execution_count": 17,
      "outputs": [
        {
          "output_type": "stream",
          "name": "stdout",
          "text": [
            "[[0 0 0 0 0 0 0]\n",
            " [0 0 0 0 0 0 0]\n",
            " [0 0 0 0 0 0 0]\n",
            " [0 0 0 0 0 0 0]\n",
            " [1 0 0 2 2 0 0]\n",
            " [1 1 1 1 2 0 0]]\n",
            "What is player 1's move?2\n",
            "[[0 0 0 0 0 0 0]\n",
            " [0 0 0 0 0 0 0]\n",
            " [0 0 0 0 0 0 0]\n",
            " [0 0 0 0 0 0 0]\n",
            " [1 1 0 2 2 0 0]\n",
            " [1 1 1 1 2 0 0]]\n",
            "Player 1 has won!\n"
          ]
        }
      ]
    }
  ]
}